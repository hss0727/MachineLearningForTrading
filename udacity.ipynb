{
  "nbformat": 4,
  "nbformat_minor": 0,
  "metadata": {
    "colab": {
      "name": "udacity.ipynb",
      "provenance": [],
      "collapsed_sections": [],
      "mount_file_id": "1fH5y0AbU-22qMFfRPx2EhWD4HkfL2pC-",
      "authorship_tag": "ABX9TyPBSCRqfIQ2vOVn2pjTcwrP"
    },
    "kernelspec": {
      "name": "python3",
      "display_name": "Python 3"
    },
    "language_info": {
      "name": "python"
    }
  },
  "cells": [
    {
      "cell_type": "code",
      "source": [
        "path_hcp = \"/content/drive/MyDrive/udacity/HCP.csv\""
      ],
      "metadata": {
        "id": "KXv8dfg3DGaM"
      },
      "execution_count": null,
      "outputs": []
    },
    {
      "cell_type": "markdown",
      "source": [
        "Problems to solve\n",
        "- Date ranges\n",
        "- Multiple stocks\n",
        "- Align dates\n",
        "- Proper date order"
      ],
      "metadata": {
        "id": "Q1O3H_XDQMWW"
      }
    },
    {
      "cell_type": "markdown",
      "source": [
        "How many days were US stocks traded at NYSE in 2014? \n",
        "- 252"
      ],
      "metadata": {
        "id": "9gTgMGw4QW3K"
      }
    },
    {
      "cell_type": "markdown",
      "source": [
        "S&P 500 is a stock market index based on 500 large American companies listed on the NYSE or NASDAQ. Think of it as a weighted mean of the stock prices of the companies, where the number of shares are used as weights (with some adjustment for any events that may affect apparent stock value, such as splits).\n",
        "\n",
        "SPDR® S&P 500 is an ETF (or exchange-traded fund) that tracks the S&P 500 index, and is itself listed on NYSE under the ticker symbol \"SPY\"."
      ],
      "metadata": {
        "id": "IJrvEDpFRI7G"
      }
    },
    {
      "cell_type": "markdown",
      "source": [
        "# JOIN\n",
        "- df1: all available dates\n",
        "- df2: missing weekend\n",
        "- Set 'Dates' as index"
      ],
      "metadata": {
        "id": "p_QibS36Rcqa"
      }
    },
    {
      "cell_type": "code",
      "source": [
        "import os\n",
        "import pandas as pd\n",
        "import numpy as np\n",
        "import time\n",
        "import matplotlib.pyplot as plt"
      ],
      "metadata": {
        "id": "fnvDzsi_u1c_"
      },
      "execution_count": 7,
      "outputs": []
    },
    {
      "cell_type": "code",
      "source": [
        "\"\"\"Utility functions\"\"\"\n",
        "\n",
        "def get_max_close(symbol):\n",
        "  df = pd.read_csv(\"/content/drive/Mydrive/udacity/HCP.csv\")\n",
        "  return df['Close'].max()\n",
        "\n",
        "\n",
        "#---------- Read Data ------------------------------\n",
        "\n",
        "def symbol_to_path(symbol, base_dir=\"/content/drive/MyDrive/udacity/\"):\n",
        "  \"\"\"Return CSV file path given ticker symbol.\"\"\"\n",
        "  return os.path.join(base_dir, \"{}.csv\".format(str(symbol)))\n",
        "\n",
        "\n",
        "\n",
        "def get_data(symbols, dates):\n",
        "  \"\"\"Read stock data (adjusted close) for given symbols from CSV files.\"\"\"\n",
        "  df = pd.DataFrame(index=dates)\n",
        "  if 'SPY' not in symbols:  # add SPY for reference, if absent\n",
        "      symbols.insert(0, 'SPY')\n",
        "\n",
        "  for symbol in symbols:\n",
        "      df_temp = pd.read_csv(symbol_to_path(symbol), index_col='Date',\n",
        "                            parse_dates=True, usecols=['Date', 'Adj Close'], \n",
        "                            na_values=['nan'])\n",
        "      df_temp = df_temp.rename(columns={'Adj Close': symbol})\n",
        "      df = df.join(df_temp)\n",
        "      if symbol == 'SPY':  # drop dates SPY did not trade\n",
        "          df = df.dropna(subset=[\"SPY\"])\n",
        "\n",
        "  return df\n",
        "\n",
        "\n",
        "\n",
        "def normalize_data(df):\n",
        "  \"\"\"Normalize stock prices using the first row of the dataframe.\"\"\"\n",
        "  return df / df.iloc[0,:]\n",
        "\n",
        "\n",
        "\n",
        "def get_max_index(a):\n",
        "  \"\"\"Return the index of the maximum value in given 1D array.\"\"\"\n",
        "  # TODO: Your code here\n",
        "  index = np.argmax(a)\n",
        "  return index\n",
        "\n",
        "\n",
        "#---------- Bollinger Bands ------------------------------\n",
        "\n",
        "def get_rolling_mean(df, window):\n",
        "    \"\"\"Return rolling mean of given values, using specified window size.\"\"\"\n",
        "    rm = df.rolling(window=window).mean()\n",
        "    #rm.iloc[0,:] = 0\n",
        "    return rm\n",
        "    #return pd.rolling_mean(values, window=window)\n",
        "\n",
        "\n",
        "def get_rolling_std(df, window):\n",
        "    \"\"\"Return rolling standard deviation of given values, using specified window size.\"\"\"\n",
        "    # TODO: Compute and return rolling standard deviation\n",
        "    rstd = df.rolling(window=window).std()\n",
        "    #rstd.iloc[0,:] = 0\n",
        "    return rstd\n",
        "    #return pd.rolling_std(values, window=window)\n",
        "\n",
        "\n",
        "def get_bollinger_bands(rm, rstd):\n",
        "    \"\"\"Return upper and lower Bollinger Bands.\"\"\"\n",
        "    # TODO: Compute upper_band and lower_band\n",
        "    upper_band = rm + 2 * rstd\n",
        "    lower_band = rm - 2 * rstd\n",
        "    return upper_band, lower_band\n",
        "\n",
        "\n",
        "#---------- Data Plot -----------------------------------\n",
        "\n",
        "def plot_data(df, title=\"Stock prices\"):\n",
        "  \"\"\"Plot stock prices\"\"\"\n",
        "  ax = df.plot(title=title, fontsize=2)\n",
        "  ax.set_xlabel(\"Date\")\n",
        "  ax.set_ylabel(\"Price\")\n",
        "  plt.show()\n",
        "\n",
        "\n",
        "\n",
        "def plot_selected(df, columns, start_index, end_index):\n",
        "  \"\"\"Plot the desired columns over index values in the given range.\"\"\"\n",
        "  # TODO: Your code here\n",
        "  # Note: DO NOT modify anything else!\n",
        "  df_plot = df.loc[start_index:end_index, columns]\n",
        "  plot_data(df_plot)"
      ],
      "metadata": {
        "id": "qK1QcOIfXv6q"
      },
      "execution_count": 66,
      "outputs": []
    },
    {
      "cell_type": "markdown",
      "source": [
        "# Numpy practice"
      ],
      "metadata": {
        "id": "mhw2z4odZU9l"
      }
    },
    {
      "cell_type": "code",
      "source": [
        "def get_max_index(a):\n",
        "    \"\"\"Return the index of the maximum value in given 1D array.\"\"\"\n",
        "    # TODO: Your code here\n",
        "    index = np.argmax(a)\n",
        "    return index\n",
        "\n",
        "\n",
        "def test_run():\n",
        "    a = np.array([9, 6, 2, 3, 12, 14, 7, 10], dtype=np.int32)  # 32-bit integer array\n",
        "    print(\"Array:\", a)\n",
        "    \n",
        "    # Find the maximum and its index in array\n",
        "    print(\"Maximum value:\", a.max())\n",
        "    print(\"Index of max.:\", get_max_index(a))\n",
        "\n",
        "\n",
        "if __name__ == \"__main__\":\n",
        "    test_run()"
      ],
      "metadata": {
        "id": "NYxzcaAp5-qZ",
        "colab": {
          "base_uri": "https://localhost:8080/"
        },
        "outputId": "5717b39c-5385-4501-9b88-1bfb39f24bef"
      },
      "execution_count": null,
      "outputs": [
        {
          "output_type": "stream",
          "name": "stdout",
          "text": [
            "Array: [ 9  6  2  3 12 14  7 10]\n",
            "Maximum value: 14\n",
            "Index of max.: 5\n"
          ]
        }
      ]
    },
    {
      "cell_type": "code",
      "source": [
        "def_dates = pd.date_range('2021-09-01', '2022-07-31')"
      ],
      "metadata": {
        "id": "0wmVuuFracVC"
      },
      "execution_count": 60,
      "outputs": []
    },
    {
      "cell_type": "code",
      "source": [
        "\"\"\"Normalized Stock Prices Chart.\"\"\"\n",
        "\n",
        "def test_run():\n",
        "  # Define a date range\n",
        "  dates = def_dates\n",
        "\n",
        "  # Choose stock symbols to read\n",
        "  symbols = ['GOOG', 'IBM', 'GLD']\n",
        "  \n",
        "  # Get stock data\n",
        "  df = get_data(symbols, dates)\n",
        "  df = normalize_data(df)\n",
        "  plot_data(df)\n",
        "  print(df)\n",
        "\n",
        "if __name__ == \"__main__\":\n",
        "    test_run()\n"
      ],
      "metadata": {
        "colab": {
          "base_uri": "https://localhost:8080/",
          "height": 519
        },
        "id": "9rx_zFHbaSyf",
        "outputId": "ba8f0e2b-a064-4992-865a-7461a9336d9e"
      },
      "execution_count": 61,
      "outputs": [
        {
          "output_type": "display_data",
          "data": {
            "text/plain": [
              "<Figure size 432x288 with 1 Axes>"
            ],
            "image/png": "[encoded data removed]"
          },
          "metadata": {
            "needs_background": "light"
          }
        },
        {
          "output_type": "stream",
          "name": "stdout",
          "text": [
            "                 SPY      GOOG       IBM       GLD\n",
            "2021-09-01  1.000000  1.000000  1.000000  1.000000\n",
            "2021-09-02  1.003077  0.988872  1.005097  0.997348\n",
            "2021-09-03  1.002833  0.992684  1.002010  1.008014\n",
            "2021-09-07  0.999248  0.997785  0.991098  0.988273\n",
            "2021-09-08  0.998030  0.993428  0.995477  0.985798\n",
            "...              ...       ...       ...       ...\n",
            "2022-07-25  0.887991  0.741967  1.001872  0.944196\n",
            "2022-07-26  0.877485  0.722974  0.998287  0.943076\n",
            "2022-07-27  0.900270  0.778925  1.006393  0.952681\n",
            "2022-07-28  0.911562  0.785713  1.007172  0.964290\n",
            "2022-07-29  0.924851  0.799770  1.019409  0.967001\n",
            "\n",
            "[229 rows x 4 columns]\n"
          ]
        }
      ]
    },
    {
      "cell_type": "code",
      "source": [
        "\"\"\"Bollinger Bands.\"\"\"\n",
        "\n",
        "def test_run():\n",
        "    # Read data\n",
        "    dates = def_dates\n",
        "    symbols = ['SPY']\n",
        "    df = get_data(symbols, dates)\n",
        "\n",
        "    # Compute Bollinger Bands\n",
        "    # 1. Compute rolling mean\n",
        "    rm_SPY = get_rolling_mean(df, window=20)\n",
        "\n",
        "    # 2. Compute rolling standard deviation\n",
        "    rstd_SPY = get_rolling_std(df, window=20)\n",
        "\n",
        "    # 3. Compute upper and lower bands\n",
        "    upper_band, lower_band = get_bollinger_bands(rm_SPY, rstd_SPY)\n",
        "    \n",
        "    # Plot raw SPY values, rolling mean and Bollinger Bands\n",
        "    ax = df.plot(title=\"Bollinger Bands\", label='SPY')\n",
        "    rm_SPY.plot(label='Rolling mean', ax=ax)\n",
        "    upper_band.plot(label='upper band', ax=ax)\n",
        "    lower_band.plot(label='lower band', ax=ax)\n",
        "\n",
        "    # Add axis labels and legend\n",
        "    ax.set_xlabel(\"Date\")\n",
        "    ax.set_ylabel(\"Price\")\n",
        "    ax.legend(loc='upper left')\n",
        "    plt.show()\n",
        "\n",
        "\n",
        "if __name__ == \"__main__\":\n",
        "    test_run()\n"
      ],
      "metadata": {
        "id": "5XZ0jKPLCsSQ",
        "colab": {
          "base_uri": "https://localhost:8080/",
          "height": 293
        },
        "outputId": "c95cceb7-44f7-4024-f90e-a6240d809376"
      },
      "execution_count": 65,
      "outputs": [
        {
          "output_type": "display_data",
          "data": {
            "text/plain": [
              "<Figure size 432x288 with 1 Axes>"
            ],
            "image/png": "[encoded data removed]"
          },
          "metadata": {
            "needs_background": "light"
          }
        }
      ]
    },
    {
      "cell_type": "markdown",
      "source": [
        "Daily Returns\n",
        "\n",
        "daily_ret[t] = price[t] / price[t-1] - 1"
      ],
      "metadata": {
        "id": "g7G3RcyaBk7i"
      }
    },
    {
      "cell_type": "code",
      "source": [
        "# Read data\n",
        "dates = def_dates\n",
        "symbols = ['SPY']\n",
        "df = get_data(symbols, dates)\n",
        "\n",
        "# Compute Bollinger Bands\n",
        "# 1. Compute rolling mean\n",
        "rm_SPY = get_rolling_mean(df, window=3)\n",
        "\n",
        "# 2. Compute rolling standard deviation\n",
        "rstd_SPY = get_rolling_std(df, window=3)\n",
        "\n",
        "# 3. Compute upper and lower bands\n",
        "upper_band, lower_band = get_bollinger_bands(rm_SPY, rstd_SPY)"
      ],
      "metadata": {
        "id": "274JcF_rBtDz"
      },
      "execution_count": 58,
      "outputs": []
    },
    {
      "cell_type": "code",
      "source": [
        "rm_SPY"
      ],
      "metadata": {
        "colab": {
          "base_uri": "https://localhost:8080/",
          "height": 300
        },
        "id": "TLpomsgfDBp4",
        "outputId": "a7f7c0aa-4018-4622-ee73-5d3bba2db201"
      },
      "execution_count": 57,
      "outputs": [
        {
          "output_type": "execute_result",
          "data": {
            "text/plain": [
              "            SPY\n",
              "2021-08-20  0.0\n",
              "2021-08-23  NaN\n",
              "2021-08-24  NaN\n",
              "2021-08-25  NaN\n",
              "2021-08-26  NaN\n",
              "2021-08-27  NaN\n",
              "2021-08-30  NaN\n",
              "2021-08-31  NaN"
            ],
            "text/html": [
              "\n",
              "  <div id=\"df-0eedf1fb-f815-4fca-9758-41bd01f8fb96\">\n",
              "    <div class=\"colab-df-container\">\n",
              "      <div>\n",
              "<style scoped>\n",
              "    .dataframe tbody tr th:only-of-type {\n",
              "        vertical-align: middle;\n",
              "    }\n",
              "\n",
              "    .dataframe tbody tr th {\n",
              "        vertical-align: top;\n",
              "    }\n",
              "\n",
              "    .dataframe thead th {\n",
              "        text-align: right;\n",
              "    }\n",
              "</style>\n",
              "<table border=\"1\" class=\"dataframe\">\n",
              "  <thead>\n",
              "    <tr style=\"text-align: right;\">\n",
              "      <th></th>\n",
              "      <th>SPY</th>\n",
              "    </tr>\n",
              "  </thead>\n",
              "  <tbody>\n",
              "    <tr>\n",
              "      <th>2021-08-20</th>\n",
              "      <td>0.0</td>\n",
              "    </tr>\n",
              "    <tr>\n",
              "      <th>2021-08-23</th>\n",
              "      <td>NaN</td>\n",
              "    </tr>\n",
              "    <tr>\n",
              "      <th>2021-08-24</th>\n",
              "      <td>NaN</td>\n",
              "    </tr>\n",
              "    <tr>\n",
              "      <th>2021-08-25</th>\n",
              "      <td>NaN</td>\n",
              "    </tr>\n",
              "    <tr>\n",
              "      <th>2021-08-26</th>\n",
              "      <td>NaN</td>\n",
              "    </tr>\n",
              "    <tr>\n",
              "      <th>2021-08-27</th>\n",
              "      <td>NaN</td>\n",
              "    </tr>\n",
              "    <tr>\n",
              "      <th>2021-08-30</th>\n",
              "      <td>NaN</td>\n",
              "    </tr>\n",
              "    <tr>\n",
              "      <th>2021-08-31</th>\n",
              "      <td>NaN</td>\n",
              "    </tr>\n",
              "  </tbody>\n",
              "</table>\n",
              "</div>\n",
              "      <button class=\"colab-df-convert\" onclick=\"convertToInteractive('df-0eedf1fb-f815-4fca-9758-41bd01f8fb96')\"\n",
              "              title=\"Convert this dataframe to an interactive table.\"\n",
              "              style=\"display:none;\">\n",
              "        \n",
              "  <svg xmlns=\"http://www.w3.org/2000/svg\" height=\"24px\"viewBox=\"0 0 24 24\"\n",
              "       width=\"24px\">\n",
              "    <path d=\"M0 0h24v24H0V0z\" fill=\"none\"/>\n",
              "    <path d=\"M18.56 5.44l.94 2.06.94-2.06 2.06-.94-2.06-.94-.94-2.06-.94 2.06-2.06.94zm-11 1L8.5 8.5l.94-2.06 2.06-.94-2.06-.94L8.5 2.5l-.94 2.06-2.06.94zm10 10l.94 2.06.94-2.06 2.06-.94-2.06-.94-.94-2.06-.94 2.06-2.06.94z\"/><path d=\"M17.41 7.96l-1.37-1.37c-.4-.4-.92-.59-1.43-.59-.52 0-1.04.2-1.43.59L10.3 9.45l-7.72 7.72c-.78.78-.78 2.05 0 2.83L4 21.41c.39.39.9.59 1.41.59.51 0 1.02-.2 1.41-.59l7.78-7.78 2.81-2.81c.8-.78.8-2.07 0-2.86zM5.41 20L4 18.59l7.72-7.72 1.47 1.35L5.41 20z\"/>\n",
              "  </svg>\n",
              "      </button>\n",
              "      \n",
              "  <style>\n",
              "    .colab-df-container {\n",
              "      display:flex;\n",
              "      flex-wrap:wrap;\n",
              "      gap: 12px;\n",
              "    }\n",
              "\n",
              "    .colab-df-convert {\n",
              "      background-color: #E8F0FE;\n",
              "      border: none;\n",
              "      border-radius: 50%;\n",
              "      cursor: pointer;\n",
              "      display: none;\n",
              "      fill: #1967D2;\n",
              "      height: 32px;\n",
              "      padding: 0 0 0 0;\n",
              "      width: 32px;\n",
              "    }\n",
              "\n",
              "    .colab-df-convert:hover {\n",
              "      background-color: #E2EBFA;\n",
              "      box-shadow: 0px 1px 2px rgba(60, 64, 67, 0.3), 0px 1px 3px 1px rgba(60, 64, 67, 0.15);\n",
              "      fill: #174EA6;\n",
              "    }\n",
              "\n",
              "    [theme=dark] .colab-df-convert {\n",
              "      background-color: #3B4455;\n",
              "      fill: #D2E3FC;\n",
              "    }\n",
              "\n",
              "    [theme=dark] .colab-df-convert:hover {\n",
              "      background-color: #434B5C;\n",
              "      box-shadow: 0px 1px 3px 1px rgba(0, 0, 0, 0.15);\n",
              "      filter: drop-shadow(0px 1px 2px rgba(0, 0, 0, 0.3));\n",
              "      fill: #FFFFFF;\n",
              "    }\n",
              "  </style>\n",
              "\n",
              "      <script>\n",
              "        const buttonEl =\n",
              "          document.querySelector('#df-0eedf1fb-f815-4fca-9758-41bd01f8fb96 button.colab-df-convert');\n",
              "        buttonEl.style.display =\n",
              "          google.colab.kernel.accessAllowed ? 'block' : 'none';\n",
              "\n",
              "        async function convertToInteractive(key) {\n",
              "          const element = document.querySelector('#df-0eedf1fb-f815-4fca-9758-41bd01f8fb96');\n",
              "          const dataTable =\n",
              "            await google.colab.kernel.invokeFunction('convertToInteractive',\n",
              "                                                     [key], {});\n",
              "          if (!dataTable) return;\n",
              "\n",
              "          const docLinkHtml = 'Like what you see? Visit the ' +\n",
              "            '<a target=\"_blank\" href=https://colab.research.google.com/notebooks/data_table.ipynb>data table notebook</a>'\n",
              "            + ' to learn more about interactive tables.';\n",
              "          element.innerHTML = '';\n",
              "          dataTable['output_type'] = 'display_data';\n",
              "          await google.colab.output.renderOutput(dataTable, element);\n",
              "          const docLink = document.createElement('div');\n",
              "          docLink.innerHTML = docLinkHtml;\n",
              "          element.appendChild(docLink);\n",
              "        }\n",
              "      </script>\n",
              "    </div>\n",
              "  </div>\n",
              "  "
            ]
          },
          "metadata": {},
          "execution_count": 57
        }
      ]
    },
    {
      "cell_type": "code",
      "source": [
        ""
      ],
      "metadata": {
        "id": "SMMg91QxdbN8"
      },
      "execution_count": null,
      "outputs": []
    },
    {
      "cell_type": "code",
      "source": [
        "temp = df.to_numpy()"
      ],
      "metadata": {
        "id": "T9iOpLI2DFgY"
      },
      "execution_count": 10,
      "outputs": []
    },
    {
      "cell_type": "code",
      "source": [
        "temp"
      ],
      "metadata": {
        "colab": {
          "base_uri": "https://localhost:8080/"
        },
        "id": "lE-MelC-FbiJ",
        "outputId": "f485bdc8-6ee3-47d6-e629-a22e872db685"
      },
      "execution_count": 11,
      "outputs": [
        {
          "output_type": "execute_result",
          "data": {
            "text/plain": [
              "array([[1, 2, 3],\n",
              "       [4, 5, 6]])"
            ]
          },
          "metadata": {},
          "execution_count": 11
        }
      ]
    },
    {
      "cell_type": "code",
      "source": [
        "temp[:,:-1]"
      ],
      "metadata": {
        "colab": {
          "base_uri": "https://localhost:8080/"
        },
        "id": "vK2TVIgDFb4o",
        "outputId": "06ced232-93bb-44d2-ac61-71218e252545"
      },
      "execution_count": 13,
      "outputs": [
        {
          "output_type": "execute_result",
          "data": {
            "text/plain": [
              "array([[1, 2],\n",
              "       [4, 5]])"
            ]
          },
          "metadata": {},
          "execution_count": 13
        }
      ]
    },
    {
      "cell_type": "code",
      "source": [
        "df"
      ],
      "metadata": {
        "colab": {
          "base_uri": "https://localhost:8080/",
          "height": 112
        },
        "id": "MsnELuZDFdmJ",
        "outputId": "916ae5cb-29de-45d6-847e-fc2e734c167e"
      },
      "execution_count": 14,
      "outputs": [
        {
          "output_type": "execute_result",
          "data": {
            "text/plain": [
              "   0  1  2\n",
              "0  1  2  3\n",
              "1  4  5  6"
            ],
            "text/html": [
              "\n",
              "  <div id=\"df-dcacee3c-2e97-4d8c-8173-c74fb869d283\">\n",
              "    <div class=\"colab-df-container\">\n",
              "      <div>\n",
              "<style scoped>\n",
              "    .dataframe tbody tr th:only-of-type {\n",
              "        vertical-align: middle;\n",
              "    }\n",
              "\n",
              "    .dataframe tbody tr th {\n",
              "        vertical-align: top;\n",
              "    }\n",
              "\n",
              "    .dataframe thead th {\n",
              "        text-align: right;\n",
              "    }\n",
              "</style>\n",
              "<table border=\"1\" class=\"dataframe\">\n",
              "  <thead>\n",
              "    <tr style=\"text-align: right;\">\n",
              "      <th></th>\n",
              "      <th>0</th>\n",
              "      <th>1</th>\n",
              "      <th>2</th>\n",
              "    </tr>\n",
              "  </thead>\n",
              "  <tbody>\n",
              "    <tr>\n",
              "      <th>0</th>\n",
              "      <td>1</td>\n",
              "      <td>2</td>\n",
              "      <td>3</td>\n",
              "    </tr>\n",
              "    <tr>\n",
              "      <th>1</th>\n",
              "      <td>4</td>\n",
              "      <td>5</td>\n",
              "      <td>6</td>\n",
              "    </tr>\n",
              "  </tbody>\n",
              "</table>\n",
              "</div>\n",
              "      <button class=\"colab-df-convert\" onclick=\"convertToInteractive('df-dcacee3c-2e97-4d8c-8173-c74fb869d283')\"\n",
              "              title=\"Convert this dataframe to an interactive table.\"\n",
              "              style=\"display:none;\">\n",
              "        \n",
              "  <svg xmlns=\"http://www.w3.org/2000/svg\" height=\"24px\"viewBox=\"0 0 24 24\"\n",
              "       width=\"24px\">\n",
              "    <path d=\"M0 0h24v24H0V0z\" fill=\"none\"/>\n",
              "    <path d=\"M18.56 5.44l.94 2.06.94-2.06 2.06-.94-2.06-.94-.94-2.06-.94 2.06-2.06.94zm-11 1L8.5 8.5l.94-2.06 2.06-.94-2.06-.94L8.5 2.5l-.94 2.06-2.06.94zm10 10l.94 2.06.94-2.06 2.06-.94-2.06-.94-.94-2.06-.94 2.06-2.06.94z\"/><path d=\"M17.41 7.96l-1.37-1.37c-.4-.4-.92-.59-1.43-.59-.52 0-1.04.2-1.43.59L10.3 9.45l-7.72 7.72c-.78.78-.78 2.05 0 2.83L4 21.41c.39.39.9.59 1.41.59.51 0 1.02-.2 1.41-.59l7.78-7.78 2.81-2.81c.8-.78.8-2.07 0-2.86zM5.41 20L4 18.59l7.72-7.72 1.47 1.35L5.41 20z\"/>\n",
              "  </svg>\n",
              "      </button>\n",
              "      \n",
              "  <style>\n",
              "    .colab-df-container {\n",
              "      display:flex;\n",
              "      flex-wrap:wrap;\n",
              "      gap: 12px;\n",
              "    }\n",
              "\n",
              "    .colab-df-convert {\n",
              "      background-color: #E8F0FE;\n",
              "      border: none;\n",
              "      border-radius: 50%;\n",
              "      cursor: pointer;\n",
              "      display: none;\n",
              "      fill: #1967D2;\n",
              "      height: 32px;\n",
              "      padding: 0 0 0 0;\n",
              "      width: 32px;\n",
              "    }\n",
              "\n",
              "    .colab-df-convert:hover {\n",
              "      background-color: #E2EBFA;\n",
              "      box-shadow: 0px 1px 2px rgba(60, 64, 67, 0.3), 0px 1px 3px 1px rgba(60, 64, 67, 0.15);\n",
              "      fill: #174EA6;\n",
              "    }\n",
              "\n",
              "    [theme=dark] .colab-df-convert {\n",
              "      background-color: #3B4455;\n",
              "      fill: #D2E3FC;\n",
              "    }\n",
              "\n",
              "    [theme=dark] .colab-df-convert:hover {\n",
              "      background-color: #434B5C;\n",
              "      box-shadow: 0px 1px 3px 1px rgba(0, 0, 0, 0.15);\n",
              "      filter: drop-shadow(0px 1px 2px rgba(0, 0, 0, 0.3));\n",
              "      fill: #FFFFFF;\n",
              "    }\n",
              "  </style>\n",
              "\n",
              "      <script>\n",
              "        const buttonEl =\n",
              "          document.querySelector('#df-dcacee3c-2e97-4d8c-8173-c74fb869d283 button.colab-df-convert');\n",
              "        buttonEl.style.display =\n",
              "          google.colab.kernel.accessAllowed ? 'block' : 'none';\n",
              "\n",
              "        async function convertToInteractive(key) {\n",
              "          const element = document.querySelector('#df-dcacee3c-2e97-4d8c-8173-c74fb869d283');\n",
              "          const dataTable =\n",
              "            await google.colab.kernel.invokeFunction('convertToInteractive',\n",
              "                                                     [key], {});\n",
              "          if (!dataTable) return;\n",
              "\n",
              "          const docLinkHtml = 'Like what you see? Visit the ' +\n",
              "            '<a target=\"_blank\" href=https://colab.research.google.com/notebooks/data_table.ipynb>data table notebook</a>'\n",
              "            + ' to learn more about interactive tables.';\n",
              "          element.innerHTML = '';\n",
              "          dataTable['output_type'] = 'display_data';\n",
              "          await google.colab.output.renderOutput(dataTable, element);\n",
              "          const docLink = document.createElement('div');\n",
              "          docLink.innerHTML = docLinkHtml;\n",
              "          element.appendChild(docLink);\n",
              "        }\n",
              "      </script>\n",
              "    </div>\n",
              "  </div>\n",
              "  "
            ]
          },
          "metadata": {},
          "execution_count": 14
        }
      ]
    },
    {
      "cell_type": "code",
      "source": [
        "df.shift(1)"
      ],
      "metadata": {
        "colab": {
          "base_uri": "https://localhost:8080/",
          "height": 143
        },
        "id": "qJ5M--cKHT9F",
        "outputId": "bced6917-85f5-4cd7-82d1-90b02396b6cb"
      },
      "execution_count": 18,
      "outputs": [
        {
          "output_type": "execute_result",
          "data": {
            "text/plain": [
              "     0    1    2\n",
              "0  NaN  NaN  NaN\n",
              "1  1.0  2.0  3.0\n",
              "2  4.0  5.0  6.0"
            ],
            "text/html": [
              "\n",
              "  <div id=\"df-bc9e13ea-da27-4b16-961d-fb0a0e000d8c\">\n",
              "    <div class=\"colab-df-container\">\n",
              "      <div>\n",
              "<style scoped>\n",
              "    .dataframe tbody tr th:only-of-type {\n",
              "        vertical-align: middle;\n",
              "    }\n",
              "\n",
              "    .dataframe tbody tr th {\n",
              "        vertical-align: top;\n",
              "    }\n",
              "\n",
              "    .dataframe thead th {\n",
              "        text-align: right;\n",
              "    }\n",
              "</style>\n",
              "<table border=\"1\" class=\"dataframe\">\n",
              "  <thead>\n",
              "    <tr style=\"text-align: right;\">\n",
              "      <th></th>\n",
              "      <th>0</th>\n",
              "      <th>1</th>\n",
              "      <th>2</th>\n",
              "    </tr>\n",
              "  </thead>\n",
              "  <tbody>\n",
              "    <tr>\n",
              "      <th>0</th>\n",
              "      <td>NaN</td>\n",
              "      <td>NaN</td>\n",
              "      <td>NaN</td>\n",
              "    </tr>\n",
              "    <tr>\n",
              "      <th>1</th>\n",
              "      <td>1.0</td>\n",
              "      <td>2.0</td>\n",
              "      <td>3.0</td>\n",
              "    </tr>\n",
              "    <tr>\n",
              "      <th>2</th>\n",
              "      <td>4.0</td>\n",
              "      <td>5.0</td>\n",
              "      <td>6.0</td>\n",
              "    </tr>\n",
              "  </tbody>\n",
              "</table>\n",
              "</div>\n",
              "      <button class=\"colab-df-convert\" onclick=\"convertToInteractive('df-bc9e13ea-da27-4b16-961d-fb0a0e000d8c')\"\n",
              "              title=\"Convert this dataframe to an interactive table.\"\n",
              "              style=\"display:none;\">\n",
              "        \n",
              "  <svg xmlns=\"http://www.w3.org/2000/svg\" height=\"24px\"viewBox=\"0 0 24 24\"\n",
              "       width=\"24px\">\n",
              "    <path d=\"M0 0h24v24H0V0z\" fill=\"none\"/>\n",
              "    <path d=\"M18.56 5.44l.94 2.06.94-2.06 2.06-.94-2.06-.94-.94-2.06-.94 2.06-2.06.94zm-11 1L8.5 8.5l.94-2.06 2.06-.94-2.06-.94L8.5 2.5l-.94 2.06-2.06.94zm10 10l.94 2.06.94-2.06 2.06-.94-2.06-.94-.94-2.06-.94 2.06-2.06.94z\"/><path d=\"M17.41 7.96l-1.37-1.37c-.4-.4-.92-.59-1.43-.59-.52 0-1.04.2-1.43.59L10.3 9.45l-7.72 7.72c-.78.78-.78 2.05 0 2.83L4 21.41c.39.39.9.59 1.41.59.51 0 1.02-.2 1.41-.59l7.78-7.78 2.81-2.81c.8-.78.8-2.07 0-2.86zM5.41 20L4 18.59l7.72-7.72 1.47 1.35L5.41 20z\"/>\n",
              "  </svg>\n",
              "      </button>\n",
              "      \n",
              "  <style>\n",
              "    .colab-df-container {\n",
              "      display:flex;\n",
              "      flex-wrap:wrap;\n",
              "      gap: 12px;\n",
              "    }\n",
              "\n",
              "    .colab-df-convert {\n",
              "      background-color: #E8F0FE;\n",
              "      border: none;\n",
              "      border-radius: 50%;\n",
              "      cursor: pointer;\n",
              "      display: none;\n",
              "      fill: #1967D2;\n",
              "      height: 32px;\n",
              "      padding: 0 0 0 0;\n",
              "      width: 32px;\n",
              "    }\n",
              "\n",
              "    .colab-df-convert:hover {\n",
              "      background-color: #E2EBFA;\n",
              "      box-shadow: 0px 1px 2px rgba(60, 64, 67, 0.3), 0px 1px 3px 1px rgba(60, 64, 67, 0.15);\n",
              "      fill: #174EA6;\n",
              "    }\n",
              "\n",
              "    [theme=dark] .colab-df-convert {\n",
              "      background-color: #3B4455;\n",
              "      fill: #D2E3FC;\n",
              "    }\n",
              "\n",
              "    [theme=dark] .colab-df-convert:hover {\n",
              "      background-color: #434B5C;\n",
              "      box-shadow: 0px 1px 3px 1px rgba(0, 0, 0, 0.15);\n",
              "      filter: drop-shadow(0px 1px 2px rgba(0, 0, 0, 0.3));\n",
              "      fill: #FFFFFF;\n",
              "    }\n",
              "  </style>\n",
              "\n",
              "      <script>\n",
              "        const buttonEl =\n",
              "          document.querySelector('#df-bc9e13ea-da27-4b16-961d-fb0a0e000d8c button.colab-df-convert');\n",
              "        buttonEl.style.display =\n",
              "          google.colab.kernel.accessAllowed ? 'block' : 'none';\n",
              "\n",
              "        async function convertToInteractive(key) {\n",
              "          const element = document.querySelector('#df-bc9e13ea-da27-4b16-961d-fb0a0e000d8c');\n",
              "          const dataTable =\n",
              "            await google.colab.kernel.invokeFunction('convertToInteractive',\n",
              "                                                     [key], {});\n",
              "          if (!dataTable) return;\n",
              "\n",
              "          const docLinkHtml = 'Like what you see? Visit the ' +\n",
              "            '<a target=\"_blank\" href=https://colab.research.google.com/notebooks/data_table.ipynb>data table notebook</a>'\n",
              "            + ' to learn more about interactive tables.';\n",
              "          element.innerHTML = '';\n",
              "          dataTable['output_type'] = 'display_data';\n",
              "          await google.colab.output.renderOutput(dataTable, element);\n",
              "          const docLink = document.createElement('div');\n",
              "          docLink.innerHTML = docLinkHtml;\n",
              "          element.appendChild(docLink);\n",
              "        }\n",
              "      </script>\n",
              "    </div>\n",
              "  </div>\n",
              "  "
            ]
          },
          "metadata": {},
          "execution_count": 18
        }
      ]
    },
    {
      "cell_type": "code",
      "source": [
        "df / df.shift(1)"
      ],
      "metadata": {
        "colab": {
          "base_uri": "https://localhost:8080/",
          "height": 143
        },
        "id": "RF-nD2XTHVGk",
        "outputId": "0bdc701b-8e3f-473e-980a-2c23b1140c6f"
      },
      "execution_count": 19,
      "outputs": [
        {
          "output_type": "execute_result",
          "data": {
            "text/plain": [
              "      0    1    2\n",
              "0   NaN  NaN  NaN\n",
              "1  4.00  2.5  2.0\n",
              "2  1.75  1.6  1.5"
            ],
            "text/html": [
              "\n",
              "  <div id=\"df-a933424c-9eb2-47fa-ad3d-8efc9666577b\">\n",
              "    <div class=\"colab-df-container\">\n",
              "      <div>\n",
              "<style scoped>\n",
              "    .dataframe tbody tr th:only-of-type {\n",
              "        vertical-align: middle;\n",
              "    }\n",
              "\n",
              "    .dataframe tbody tr th {\n",
              "        vertical-align: top;\n",
              "    }\n",
              "\n",
              "    .dataframe thead th {\n",
              "        text-align: right;\n",
              "    }\n",
              "</style>\n",
              "<table border=\"1\" class=\"dataframe\">\n",
              "  <thead>\n",
              "    <tr style=\"text-align: right;\">\n",
              "      <th></th>\n",
              "      <th>0</th>\n",
              "      <th>1</th>\n",
              "      <th>2</th>\n",
              "    </tr>\n",
              "  </thead>\n",
              "  <tbody>\n",
              "    <tr>\n",
              "      <th>0</th>\n",
              "      <td>NaN</td>\n",
              "      <td>NaN</td>\n",
              "      <td>NaN</td>\n",
              "    </tr>\n",
              "    <tr>\n",
              "      <th>1</th>\n",
              "      <td>4.00</td>\n",
              "      <td>2.5</td>\n",
              "      <td>2.0</td>\n",
              "    </tr>\n",
              "    <tr>\n",
              "      <th>2</th>\n",
              "      <td>1.75</td>\n",
              "      <td>1.6</td>\n",
              "      <td>1.5</td>\n",
              "    </tr>\n",
              "  </tbody>\n",
              "</table>\n",
              "</div>\n",
              "      <button class=\"colab-df-convert\" onclick=\"convertToInteractive('df-a933424c-9eb2-47fa-ad3d-8efc9666577b')\"\n",
              "              title=\"Convert this dataframe to an interactive table.\"\n",
              "              style=\"display:none;\">\n",
              "        \n",
              "  <svg xmlns=\"http://www.w3.org/2000/svg\" height=\"24px\"viewBox=\"0 0 24 24\"\n",
              "       width=\"24px\">\n",
              "    <path d=\"M0 0h24v24H0V0z\" fill=\"none\"/>\n",
              "    <path d=\"M18.56 5.44l.94 2.06.94-2.06 2.06-.94-2.06-.94-.94-2.06-.94 2.06-2.06.94zm-11 1L8.5 8.5l.94-2.06 2.06-.94-2.06-.94L8.5 2.5l-.94 2.06-2.06.94zm10 10l.94 2.06.94-2.06 2.06-.94-2.06-.94-.94-2.06-.94 2.06-2.06.94z\"/><path d=\"M17.41 7.96l-1.37-1.37c-.4-.4-.92-.59-1.43-.59-.52 0-1.04.2-1.43.59L10.3 9.45l-7.72 7.72c-.78.78-.78 2.05 0 2.83L4 21.41c.39.39.9.59 1.41.59.51 0 1.02-.2 1.41-.59l7.78-7.78 2.81-2.81c.8-.78.8-2.07 0-2.86zM5.41 20L4 18.59l7.72-7.72 1.47 1.35L5.41 20z\"/>\n",
              "  </svg>\n",
              "      </button>\n",
              "      \n",
              "  <style>\n",
              "    .colab-df-container {\n",
              "      display:flex;\n",
              "      flex-wrap:wrap;\n",
              "      gap: 12px;\n",
              "    }\n",
              "\n",
              "    .colab-df-convert {\n",
              "      background-color: #E8F0FE;\n",
              "      border: none;\n",
              "      border-radius: 50%;\n",
              "      cursor: pointer;\n",
              "      display: none;\n",
              "      fill: #1967D2;\n",
              "      height: 32px;\n",
              "      padding: 0 0 0 0;\n",
              "      width: 32px;\n",
              "    }\n",
              "\n",
              "    .colab-df-convert:hover {\n",
              "      background-color: #E2EBFA;\n",
              "      box-shadow: 0px 1px 2px rgba(60, 64, 67, 0.3), 0px 1px 3px 1px rgba(60, 64, 67, 0.15);\n",
              "      fill: #174EA6;\n",
              "    }\n",
              "\n",
              "    [theme=dark] .colab-df-convert {\n",
              "      background-color: #3B4455;\n",
              "      fill: #D2E3FC;\n",
              "    }\n",
              "\n",
              "    [theme=dark] .colab-df-convert:hover {\n",
              "      background-color: #434B5C;\n",
              "      box-shadow: 0px 1px 3px 1px rgba(0, 0, 0, 0.15);\n",
              "      filter: drop-shadow(0px 1px 2px rgba(0, 0, 0, 0.3));\n",
              "      fill: #FFFFFF;\n",
              "    }\n",
              "  </style>\n",
              "\n",
              "      <script>\n",
              "        const buttonEl =\n",
              "          document.querySelector('#df-a933424c-9eb2-47fa-ad3d-8efc9666577b button.colab-df-convert');\n",
              "        buttonEl.style.display =\n",
              "          google.colab.kernel.accessAllowed ? 'block' : 'none';\n",
              "\n",
              "        async function convertToInteractive(key) {\n",
              "          const element = document.querySelector('#df-a933424c-9eb2-47fa-ad3d-8efc9666577b');\n",
              "          const dataTable =\n",
              "            await google.colab.kernel.invokeFunction('convertToInteractive',\n",
              "                                                     [key], {});\n",
              "          if (!dataTable) return;\n",
              "\n",
              "          const docLinkHtml = 'Like what you see? Visit the ' +\n",
              "            '<a target=\"_blank\" href=https://colab.research.google.com/notebooks/data_table.ipynb>data table notebook</a>'\n",
              "            + ' to learn more about interactive tables.';\n",
              "          element.innerHTML = '';\n",
              "          dataTable['output_type'] = 'display_data';\n",
              "          await google.colab.output.renderOutput(dataTable, element);\n",
              "          const docLink = document.createElement('div');\n",
              "          docLink.innerHTML = docLinkHtml;\n",
              "          element.appendChild(docLink);\n",
              "        }\n",
              "      </script>\n",
              "    </div>\n",
              "  </div>\n",
              "  "
            ]
          },
          "metadata": {},
          "execution_count": 19
        }
      ]
    },
    {
      "cell_type": "code",
      "source": [
        "def comupte_daily_return(df):\n",
        "  \"\"\"Compute and return the daily return values.\"\"\"\n",
        "  daily_returns = df.copy()\n",
        "  daily_returns[1:] = (df[1:] / df[:-1].values) - 1\n",
        "  daily_returns.iloc[0, :] = 0\n",
        "  return daily_returns"
      ],
      "metadata": {
        "id": "jjJvObqEHkug"
      },
      "execution_count": 20,
      "outputs": []
    },
    {
      "cell_type": "markdown",
      "source": [
        "# Fill Forward first then Fill Backward"
      ],
      "metadata": {
        "id": "x0uaCQJ2PlXH"
      }
    },
    {
      "cell_type": "code",
      "source": [
        "daily_returns = compute_daily_returns(df)\n",
        "\n",
        "daily_returns.hist(bins=20)\n",
        "mean = daily_returns['SPY'].mean()\n",
        "print(\"mean=\", mean)\n",
        "std = daily_returns['SPY'].std()\n",
        "print(\"std=\", std)\n",
        "\n",
        "plt.axvline(mean, color='w', linestyle='dashed', linewidth=2)\n",
        "plt.axvline(std, color='r', linestyle='dashed', linewidth=2)\n",
        "plt.axvline(-std, color='r', linestyle='dashed', linewidth=2)\n",
        "\n",
        "print(\"kurtosis=\", daily_returns.kurtosis())"
      ],
      "metadata": {
        "id": "JBXdH_I-PoV8"
      },
      "execution_count": null,
      "outputs": []
    },
    {
      "cell_type": "markdown",
      "source": [
        "# Compare two histograms"
      ],
      "metadata": {
        "id": "jtcH8r00Uf3k"
      }
    },
    {
      "cell_type": "code",
      "source": [
        "daily_returns['SPY'].hist(bins=20, label='SPY')\n",
        "daily_returns['XOM'].hist(bins=20, label='XOM')\n",
        "plt.legend(loc='upper right')\n",
        "plt.show()"
      ],
      "metadata": {
        "id": "JwpVBRa4UhkV"
      },
      "execution_count": null,
      "outputs": []
    },
    {
      "cell_type": "markdown",
      "source": [
        "# Daily Returns Scatter Plots\n",
        "\n",
        "slope -> beta<br>\n",
        "y-axis intersect -> alpha<br>\n",
        "slope != correlation"
      ],
      "metadata": {
        "id": "uvdMo0U-V2vv"
      }
    },
    {
      "cell_type": "code",
      "source": [
        ""
      ],
      "metadata": {
        "id": "Mhxevw_JV41G"
      },
      "execution_count": null,
      "outputs": []
    }
  ]
}
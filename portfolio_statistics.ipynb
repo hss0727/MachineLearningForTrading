{
  "nbformat": 4,
  "nbformat_minor": 0,
  "metadata": {
    "colab": {
      "name": "portfolio-statistics.ipynb",
      "provenance": [],
      "authorship_tag": "ABX9TyP4Y8qVOCHkOoF0LKqAHIux"
    },
    "kernelspec": {
      "name": "python3",
      "display_name": "Python 3"
    },
    "language_info": {
      "name": "python"
    }
  },
  "cells": [
    {
      "cell_type": "markdown",
      "source": [
        ""
      ],
      "metadata": {
        "id": "UDTqm79IzgjJ"
      }
    },
    {
      "cell_type": "markdown",
      "source": [
        "# Daily Portfolio Value\n",
        "- Start_val = 1000,000\n",
        "- Start_date = 2009-1-1\n",
        "- End_date = 2011-12-31\n",
        "- Symbols = ['SPY','IBM', 'GOOG', 'GLD']\n",
        "- Allocs = [0.4, 0.4, 0.1, 0.1]"
      ],
      "metadata": {
        "id": "J1v_T1HCzijj"
      }
    },
    {
      "cell_type": "markdown",
      "source": [
        "# Portfolio statistics\n",
        "- daily_rets = daily_rets[1:] # remove the first element (where return = 0)\n",
        "- cum_ret = (port_val[-1] / port_val[0]) - 1\n",
        "- avg_daily_ret = daily_rets.mean()\n",
        "- std_daily_ret = daily_rets.std()\n",
        "- sharpe_ratio"
      ],
      "metadata": {
        "id": "Jrf95zJC0Ifh"
      }
    },
    {
      "cell_type": "markdown",
      "source": [
        "# Sharpe ratio\n",
        "- Risk adjusted return\n",
        "- All else being equal : lower risk is better | higher return is better\n",
        "- SR also considers risk free rate of return\n",
        "- S = E[R_p - R_f] / STD[R_p - R_f] (ex-ante, forward-looking)\n",
        "- S = mean(daily_rets - daily_rf) / std(daily_rets - daily_rf) (using historical data)\n",
        "- What is R_f? LIBOR | 3mo T-Bill | 0%\n",
        "- Daily_rf? power(1+r, -252) - 1\n",
        "\n",
        "- (summary) S = mean(daily_rets - daily_rf) / std(daily_rets) (adding constant to std can be removed)\n"
      ],
      "metadata": {
        "id": "kapb30-P1_jc"
      }
    },
    {
      "cell_type": "markdown",
      "source": [
        "### SR can vary widely depending on how frequently you sample\n",
        "- SR is an annual measure\n",
        "- SR_annualized = K * SR\n",
        "- K = sqrt(#samples per year)\n",
        "  - daily K = sqrt(252) | weekly K = sqrt(52) | monthly K = sqrt(12) "
      ],
      "metadata": {
        "id": "3lraU54o4rKv"
      }
    },
    {
      "cell_type": "markdown",
      "source": [
        "### If we are using 'daily' data,\n",
        "### SR = sqrt(252) * mean(daily_rests - daily_rf) / std(daily_rets)"
      ],
      "metadata": {
        "id": "t4d5_WYQ5cxI"
      }
    },
    {
      "cell_type": "markdown",
      "source": [
        "# Optimizer\n",
        "- Find 'minimum values' of functions\n",
        "- Build parameterized models based on data\n",
        "- Refine allocations to stocks in portfolios\n",
        "\n",
        "## How to use an optimizer\n",
        "- Provide a function to minimize\n",
        "- Provide an initial guess\n",
        "- Call the optimizer"
      ],
      "metadata": {
        "id": "1fw4t-Kk2Tx0"
      }
    },
    {
      "cell_type": "code",
      "source": [
        "import pandas as pd\n",
        "import numpy as np\n",
        "import matplotlib.pyplot as plt\n",
        "import scipy.optimize as spo"
      ],
      "metadata": {
        "id": "tjvpfpT7zhrC"
      },
      "execution_count": 3,
      "outputs": []
    },
    {
      "cell_type": "code",
      "source": [
        "#---------- Calling Optimizer Example --------------------\n",
        "\n",
        "def f(X):\n",
        "  \"\"\"Given a scalar X, return some value (a real number).\"\"\"\n",
        "  Y = (X - 1.5)**2 + 0.5\n",
        "  print(\"X={}, Y={}\".format(X, Y))\n",
        "  return Y\n",
        "\n",
        "\n",
        "def test_run():\n",
        "  Xguess = 4.0\n",
        "  min_result = spo.minimize(f, Xguess, method='SLSQP', options={'disp':True})\n",
        "  print(\"Minima found at:\")\n",
        "  print(\"X={}, Y={}\".format(min_result.x, min_result.fun))\n",
        "\n",
        "  # Plot function values, mark minima\n",
        "  Xplot = np.linspace(0.5, 2.5, 21)\n",
        "  Yplot = f(Xplot)\n",
        "  plt.plot(Xplot, Yplot)\n",
        "  plt.plot(min_result.x, min_result.fun, 'ro')\n",
        "  plt.title(\"Minima of an objective function\")\n",
        "  plt.show()\n",
        "\n",
        "if __name__ == \"__main__\":\n",
        "  test_run()"
      ],
      "metadata": {
        "colab": {
          "base_uri": "https://localhost:8080/",
          "height": 549
        },
        "id": "buwOmORL8V7c",
        "outputId": "38ac3dc1-0615-4e58-c4cb-65e6b2fbba4c"
      },
      "execution_count": 9,
      "outputs": [
        {
          "output_type": "stream",
          "name": "stdout",
          "text": [
            "X=[4.], Y=[6.75]\n",
            "X=[4.00000001], Y=[6.75000007]\n",
            "X=[-1.], Y=[6.75]\n",
            "X=[1.5], Y=[0.5]\n",
            "X=[1.50000001], Y=[0.5]\n",
            "Optimization terminated successfully    (Exit mode 0)\n",
            "            Current function value: [0.5]\n",
            "            Iterations: 2\n",
            "            Function evaluations: 5\n",
            "            Gradient evaluations: 2\n",
            "Minima found at:\n",
            "X=[1.5], Y=[0.5]\n",
            "X=[0.5 0.6 0.7 0.8 0.9 1.  1.1 1.2 1.3 1.4 1.5 1.6 1.7 1.8 1.9 2.  2.1 2.2\n",
            " 2.3 2.4 2.5], Y=[1.5  1.31 1.14 0.99 0.86 0.75 0.66 0.59 0.54 0.51 0.5  0.51 0.54 0.59\n",
            " 0.66 0.75 0.86 0.99 1.14 1.31 1.5 ]\n"
          ]
        },
        {
          "output_type": "display_data",
          "data": {
            "text/plain": [
              "<Figure size 432x288 with 1 Axes>"
            ],
            "image/png": "[encoded data removed]"
          },
          "metadata": {
            "needs_background": "light"
          }
        }
      ]
    },
    {
      "cell_type": "code",
      "source": [
        ""
      ],
      "metadata": {
        "id": "c1Y-ZFYr9jD7"
      },
      "execution_count": null,
      "outputs": []
    }
  ]
}
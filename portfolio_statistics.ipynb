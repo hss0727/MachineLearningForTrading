{
  "nbformat": 4,
  "nbformat_minor": 0,
  "metadata": {
    "colab": {
      "name": "portfolio-statistics.ipynb",
      "provenance": [],
      "authorship_tag": "ABX9TyOV9PJ1lSwiMPeRUZ5IrEi+"
    },
    "kernelspec": {
      "name": "python3",
      "display_name": "Python 3"
    },
    "language_info": {
      "name": "python"
    }
  },
  "cells": [
    {
      "cell_type": "markdown",
      "source": [
        ""
      ],
      "metadata": {
        "id": "UDTqm79IzgjJ"
      }
    },
    {
      "cell_type": "markdown",
      "source": [
        "# Daily Portfolio Value\n",
        "- Start_val = 1000,000\n",
        "- Start_date = 2009-1-1\n",
        "- End_date = 2011-12-31\n",
        "- Symbols = ['SPY','IBM', 'GOOG', 'GLD']\n",
        "- Allocs = [0.4, 0.4, 0.1, 0.1]"
      ],
      "metadata": {
        "id": "J1v_T1HCzijj"
      }
    },
    {
      "cell_type": "code",
      "source": [
        ""
      ],
      "metadata": {
        "id": "tjvpfpT7zhrC"
      },
      "execution_count": null,
      "outputs": []
    }
  ]
}
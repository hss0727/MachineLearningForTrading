{
  "nbformat": 4,
  "nbformat_minor": 0,
  "metadata": {
    "colab": {
      "name": "portfolio-statistics.ipynb",
      "provenance": [],
      "authorship_tag": "ABX9TyNjK9jgTZKxyXzDbrEXwdss"
    },
    "kernelspec": {
      "name": "python3",
      "display_name": "Python 3"
    },
    "language_info": {
      "name": "python"
    }
  },
  "cells": [
    {
      "cell_type": "markdown",
      "source": [
        ""
      ],
      "metadata": {
        "id": "UDTqm79IzgjJ"
      }
    },
    {
      "cell_type": "markdown",
      "source": [
        "# Daily Portfolio Value\n",
        "- Start_val = 1000,000\n",
        "- Start_date = 2009-1-1\n",
        "- End_date = 2011-12-31\n",
        "- Symbols = ['SPY','IBM', 'GOOG', 'GLD']\n",
        "- Allocs = [0.4, 0.4, 0.1, 0.1]"
      ],
      "metadata": {
        "id": "J1v_T1HCzijj"
      }
    },
    {
      "cell_type": "markdown",
      "source": [
        "# Portfolio statistics\n",
        "- daily_rets = daily_rets[1:] # remove the first element (where return = 0)\n",
        "- cum_ret = (port_val[-1] / port_val[0]) - 1\n",
        "- avg_daily_ret = daily_rets.mean()\n",
        "- std_daily_ret = daily_rets.std()\n",
        "- sharpe_ratio"
      ],
      "metadata": {
        "id": "Jrf95zJC0Ifh"
      }
    },
    {
      "cell_type": "markdown",
      "source": [
        "# Sharpe ratio\n",
        "- Risk adjusted return\n",
        "- All else being equal : lower risk is better | higher return is better\n",
        "- SR also considers risk free rate of return\n",
        "- S = E[R_p - R_f] / STD[R_p - R_f] (ex-ante, forward-looking)\n",
        "- S = mean(daily_rets - daily_rf) / std(daily_rets - daily_rf) (using historical data)\n",
        "- What is R_f? LIBOR | 3mo T-Bill | 0%\n",
        "- Daily_rf? power(1+r, -252) - 1\n",
        "\n",
        "- (summary) S = mean(daily_rets - daily_rf) / std(daily_rets) (adding constant to std can be removed)\n"
      ],
      "metadata": {
        "id": "kapb30-P1_jc"
      }
    },
    {
      "cell_type": "markdown",
      "source": [
        "### SR can vary widely depending on how frequently you sample\n",
        "- SR is an annual measure\n",
        "- SR_annualized = K * SR\n",
        "- K = sqrt(#samples per year)\n",
        "  - daily K = sqrt(252) | weekly K = sqrt(52) | monthly K = sqrt(12) "
      ],
      "metadata": {
        "id": "3lraU54o4rKv"
      }
    },
    {
      "cell_type": "markdown",
      "source": [
        "### If we are using 'daily' data,\n",
        "### SR = sqrt(252) * mean(daily_rests - daily_rf) / std(daily_rets)"
      ],
      "metadata": {
        "id": "t4d5_WYQ5cxI"
      }
    },
    {
      "cell_type": "markdown",
      "source": [
        "# Optimizer\n",
        "- Find 'minimum values' of functions\n",
        "- Build parameterized models based on data\n",
        "- Refine allocations to stocks in portfolios\n",
        "\n",
        "## How to use an optimizer\n",
        "- Provide a function to minimize\n",
        "- Provide an initial guess\n",
        "- Call the optimizer"
      ],
      "metadata": {
        "id": "1fw4t-Kk2Tx0"
      }
    },
    {
      "cell_type": "code",
      "source": [
        "import pandas as pd\n",
        "import numpy as np\n",
        "import matplotlib.pyplot as plt\n",
        "import scipy.optimize as spo"
      ],
      "metadata": {
        "id": "tjvpfpT7zhrC"
      },
      "execution_count": 2,
      "outputs": []
    },
    {
      "cell_type": "code",
      "source": [
        "#---------- Calling Optimizer Example --------------------\n",
        "\n",
        "def f(X):\n",
        "  \"\"\"Given a scalar X, return some value (a real number).\"\"\"\n",
        "  Y = (X - 1.5)**2 + 0.5\n",
        "  print(\"X={}, Y={}\".format(X, Y))\n",
        "  return Y\n",
        "\n",
        "\n",
        "def test_run():\n",
        "  Xguess = 4.0\n",
        "  min_result = spo.minimize(f, Xguess, method='SLSQP', options={'disp':True})\n",
        "  print(\"Minima found at:\")\n",
        "  print(\"X={}, Y={}\".format(min_result.x, min_result.fun))\n",
        "\n",
        "  # Plot function values, mark minima\n",
        "  Xplot = np.linspace(0.5, 2.5, 21)\n",
        "  Yplot = f(Xplot)\n",
        "  plt.plot(Xplot, Yplot)\n",
        "  plt.plot(min_result.x, min_result.fun, 'ro')\n",
        "  plt.title(\"Minima of an objective function\")\n",
        "  plt.show()\n",
        "\n",
        "if __name__ == \"__main__\":\n",
        "  test_run()"
      ],
      "metadata": {
        "colab": {
          "base_uri": "https://localhost:8080/",
          "height": 549
        },
        "id": "buwOmORL8V7c",
        "outputId": "38ac3dc1-0615-4e58-c4cb-65e6b2fbba4c"
      },
      "execution_count": null,
      "outputs": [
        {
          "output_type": "stream",
          "name": "stdout",
          "text": [
            "X=[4.], Y=[6.75]\n",
            "X=[4.00000001], Y=[6.75000007]\n",
            "X=[-1.], Y=[6.75]\n",
            "X=[1.5], Y=[0.5]\n",
            "X=[1.50000001], Y=[0.5]\n",
            "Optimization terminated successfully    (Exit mode 0)\n",
            "            Current function value: [0.5]\n",
            "            Iterations: 2\n",
            "            Function evaluations: 5\n",
            "            Gradient evaluations: 2\n",
            "Minima found at:\n",
            "X=[1.5], Y=[0.5]\n",
            "X=[0.5 0.6 0.7 0.8 0.9 1.  1.1 1.2 1.3 1.4 1.5 1.6 1.7 1.8 1.9 2.  2.1 2.2\n",
            " 2.3 2.4 2.5], Y=[1.5  1.31 1.14 0.99 0.86 0.75 0.66 0.59 0.54 0.51 0.5  0.51 0.54 0.59\n",
            " 0.66 0.75 0.86 0.99 1.14 1.31 1.5 ]\n"
          ]
        },
        {
          "output_type": "display_data",
          "data": {
            "text/plain": [
              "<Figure size 432x288 with 1 Axes>"
            ],
            "image/png": "[encoded data removed]"
          },
          "metadata": {
            "needs_background": "light"
          }
        }
      ]
    },
    {
      "cell_type": "markdown",
      "source": [
        "# Building a parameterized model\n",
        "- f(x) = c_0 * x + c_1\n",
        "- What are we minimizing? Error\n",
        "- Minimizer finds coefficients\n"
      ],
      "metadata": {
        "id": "7kGWxF2rkmRS"
      }
    },
    {
      "cell_type": "code",
      "source": [
        "def error(line, data):\n",
        "  \"\"\"Compute error between given line model and observed data.\n",
        "\n",
        "  Parameters\n",
        "  ----------\n",
        "  line: tuple/list/array (C0, C1) where C0 is slope and C1 is Y-intercept\n",
        "  data: 2D array where each row is a point (x, y)\n",
        "\n",
        "  Returns error as a single real value.\n",
        "  \"\"\"\n",
        "  \n",
        "  # Metric: Sum of squared Y-axis differences\n",
        "  err = np.sum((data[:,1] - (line[0] * data[:,0] + line[1])) ** 2)\n",
        "  return err\n",
        "\n",
        "\n",
        "\n",
        "def error_poly(C, data):\n",
        "  \"\"\"Compute error between given polynomial and observed data.\n",
        "\n",
        "  Parameters\n",
        "  ----------\n",
        "  C: numpy.poly1d object or equivalent array representing polynomial coefficients\n",
        "  data: 2D array where each row is a point (x,y)\n",
        "\n",
        "  Returns error as a single real value.\n",
        "  \"\"\"\n",
        "\n",
        "  # Metric: Sum of squared Y-axis difference\n",
        "  err = np.sum((data[:,1] - np.polyval(C, data[:,0])) ** 2)\n",
        "\n",
        "\n",
        "\n",
        "def fit_line(data, error_func):\n",
        "  \"\"\"Fit a line to given data, using a supplied error function.\n",
        "\n",
        "  Parameters\n",
        "  ----------\n",
        "  data: 2D array where each row is a point (X0, Y)\n",
        "  error_func: function that computes the error between a line and observed data\n",
        "\n",
        "  Returns line that minimizes the error function.\n",
        "  \"\"\"\n",
        "\n",
        "  # Generate initial guess for line model\n",
        "  l = np.float32([0, np.mean(data[:,1])]) # slope=0, intercept=mean(y values)\n",
        "\n",
        "  # Plot initial guess\n",
        "  x_ends = np.float32([-5,5])\n",
        "  plt.plot(x_ends, l[0] * x_ends + l[1], 'm--', linewidth=2.0, label=\"Initial guess\")\n",
        "\n",
        "  # Call optimizer to minimize error function\n",
        "  result = spo.minimize(error_func, l, args=(data,), method=\"SLSQP\", options={'disp':True})\n",
        "  return result.x\n",
        "\n",
        "\n",
        "\n",
        "def fit_poly(data, error_func, degree=3):\n",
        "  \"\"\"Fit a polynomial to given data, using supplied error function.\n",
        "\n",
        "  Parameters\n",
        "  ----------\n",
        "  data: 2D array where each row is a point (x,y)\n",
        "  error_func: function that computes the error between a polynomial and observed data\n",
        "\n",
        "  Returns polynomial that minimizes the error function.\n",
        "  \"\"\"\n",
        "\n",
        "  # Generate initial guess for polynomial model (all coeffs = 1)\n",
        "  Cguess = np.poly1d(np.ones(degree + 1, dtype = np.float32))\n",
        "\n",
        "  # Plot initial guess\n",
        "  x = np.linspace(-5,5,21)\n",
        "  plt.plot(x, np.polyval(Cguess, x), 'm--', linewidth=2.0, label=\"Initial guess\")\n",
        "\n",
        "  # Call optimizer to minimize error function\n",
        "  result = spo.minimize(error_func, Cguess, args=(data,), method='SLSQP', options={'disp':True})\n",
        "  return np.poly(result.x) # Convert optimal result into a poly1d object\n",
        "\n",
        "\n",
        "\n",
        "def test_run():\n",
        "  # Define original line\n",
        "  l_orig = np.float32([4,2])\n",
        "  print(\"Original line: C0={}, C1={}\".format(l_org[0], l_org[1]))\n",
        "  Xorig = np.linspace(0,10,21)\n",
        "  Yorig = l_orig[0] * Xorig + l_orig[1]\n",
        "  plt.plot(Xorig, Yorig, 'b--', linewidth=2.0, label=\"Original line\")\n",
        "\n",
        "  # Generate noisy data points\n",
        "  noise_sigma = 3.0\n",
        "  noise = np.random.normal(0, noise_sigma, Yorig.shape)\n",
        "  data = np.asarray([Xorig, Yorig + noise]).T\n",
        "  plt.plot(data[:,0], data[:,1], 'go', label='Data points')\n",
        "\n",
        "  # Fit a line to this data\n",
        "  l_fit = fit_line(data, error)\n",
        "  print(\"Fitted line: C0={}, C1={}\".format(l_fit[0], l_fit[1]))\n",
        "  plt.plot(data[:,0], l_fit[0] * data[:,0] + l_fit[1], \n",
        "           'r--', linewidth=2.0, label=\"Fitted line\")\n",
        "\n",
        "if __name__ == \"__main__\":\n",
        "  test_run()"
      ],
      "metadata": {
        "colab": {
          "base_uri": "https://localhost:8080/",
          "height": 387
        },
        "id": "IQG3shX7D-BF",
        "outputId": "9fc29a47-db3c-4001-ead0-618090b95a65"
      },
      "execution_count": 44,
      "outputs": [
        {
          "output_type": "stream",
          "name": "stdout",
          "text": [
            "Original line: C0=4.0, C1=2.0\n",
            "Optimization terminated successfully    (Exit mode 0)\n",
            "            Current function value: 174.88445567918754\n",
            "            Iterations: 5\n",
            "            Function evaluations: 19\n",
            "            Gradient evaluations: 5\n",
            "Fitted line: C0=4.163754080307126, C1=0.5803253843122207\n"
          ]
        },
        {
          "output_type": "display_data",
          "data": {
            "text/plain": [
              "<Figure size 432x288 with 1 Axes>"
            ],
            "image/png": "[encoded data removed]"
          },
          "metadata": {
            "needs_background": "light"
          }
        }
      ]
    }
  ]
}